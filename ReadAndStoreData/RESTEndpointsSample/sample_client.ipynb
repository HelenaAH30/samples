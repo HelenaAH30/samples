{
 "cells": [
  {
   "cell_type": "markdown",
   "metadata": {
    "id": "813033f0c84547ea896b0032b1f889db"
   },
   "source": [
    "# Send data to Streams jobs via REST\n",
    "\n",
    "This is a utility to send some code to a Streams job that has REST endpoints enabled. \n",
    "\n",
    "This notebook can be modified for use with any Streams job that uses the `EndpointSink/Source` operators.\n",
    " - To send data:\n",
    "     - [Fill in the `POST_ENDPOINT` and `BASE_CPD_URL` values](#urls).\n",
    "     - Modify the [Send data](#send) cell to send data to your endpoint.\n",
    " - To retrieve data, \n",
    "     - [Modify the `GET_ENDPOINT` and `BASE_CPD_URL`](#urls)\n",
    "     - [Run the `Get data` cell](#get). \n",
    "\n",
    "### Sample Streams application\n",
    "If you do not have a Streams application, this notebook will work as-is as with this tutorial, so follow the tutorial if you haven't already to start running the Streams jobs.\n",
    "\n",
    "## Get the URLs for the REST endpoint(s)\n",
    "\n",
    "\n",
    "Once the Streams job is running, in the Cloud Pak for Data home page under **Services > Instances** there will be a new entry for the job's web service of type `streams-application` titled `<space_name>.<job id>` \n",
    "\n",
    "E.g. if the submitted job has id 4 and you used the default Streams space, then there will be an entry like `sample-instance.sample-instance.4` in the list of instances.\n",
    "\n",
    "Click that entry to get to the Swagger page for the REST service, which will list the URL for the GET endpoint and also allow you to try retrieving data from the Streams job.\n",
    "\n",
    "For each endpoint listed under **Data access endpoints**, the full URL for the endpoint will be `CPD_URL` + `ENDPOINT`.\n"
   ]
  },
  {
   "cell_type": "markdown",
   "metadata": {},
   "source": [
    "\n",
    "<a id=\"urls\"></a>\n",
    "Find the URL for the `CalculationResult_Results` and `IncomingRequest_Operands` endpoints."
   ]
  },
  {
   "cell_type": "code",
   "execution_count": 1,
   "metadata": {
    "id": "5a11cb27b0ae48d4b8ad9cba8a435177"
   },
   "outputs": [],
   "source": [
    "import urllib3\n",
    "urllib3.disable_warnings(urllib3.exceptions.InsecureRequestWarning)\n",
    "\n",
    "# Edit these to set the value you get from the Swagger UI\n",
    "GET_ENDPOINT = \"<paste endpoint here>\"\n",
    "POST_ENDPOINT = \"<paste endpoint here>\"\n",
    "BASE_CPD_URL = \"<PASTE CPD URL>\"\n",
    "POST_ENDPOINT = \"/streams_application/v1/tooling-55-cpd_sample-calculatorservice-68/endpoints/IncomingRequest_Operands/data\"\n",
    "\n",
    "\n",
    "GET_ENDPOINT = \"/streams_application/v1/tooling-55-cpd_sample-calculatorservice-68/endpoints/CalculationAnalyzer_Results/data\"\n",
    "# Edit this BASE_CPD_URL to set the URL of your CPD\n",
    "BASE_CPD_URL = \"https://tooling-55-cpd-cpd-tooling-55-cpd.apps.cpstreamsx6.cp.fyre.ibm.com\"\n",
    "\n",
    "GET_URL = BASE_CPD_URL + GET_ENDPOINT\n",
    "POST_URL = BASE_CPD_URL + POST_ENDPOINT"
   ]
  },
  {
   "cell_type": "markdown",
   "metadata": {
    "id": "868ab736-48c2-4003-a989-aafcf138410a"
   },
   "source": [
    "#### Set your USERNAME and PASSWORD to use with the REST API\n",
    "Run this cell to be prompted for USERNAME and PASSWORD. These variables will be used to test REST requests later in the notebook."
   ]
  },
  {
   "cell_type": "code",
   "execution_count": 2,
   "metadata": {
    "id": "163ab33f-0eea-4db6-b019-e9e721b5d679"
   },
   "outputs": [
    {
     "name": "stdout",
     "output_type": "stream",
     "text": [
      "CPD USERNAME:  admin\n",
      "CPD PASSWORD:  ········\n"
     ]
    }
   ],
   "source": [
    "import getpass\n",
    "USERNAME = input(\"CPD USERNAME:  \")\n",
    "PASSWORD = getpass.getpass(\"CPD PASSWORD:  \")\n",
    "USERNAME = \"admin\"\n",
    "PASSWORD = \"password\""
   ]
  },
  {
   "cell_type": "markdown",
   "metadata": {
    "id": "82f4a673487145978357d43af4533d44"
   },
   "source": [
    "<a id=\"send\"></a>\n",
    "## Send some data to the Streams job\n",
    "\n",
    "If you are running the Calculator sample, simply run this cell.  It sends the input data to the application.\n",
    "\n",
    "Otherwise,  modify the `get_new_tuple` function to create a tuple that will be sent to your Streams application. This function is called repeatedly by the next cell. By default it just sends two numbers, `x` and `y`. "
   ]
  },
  {
   "cell_type": "code",
   "execution_count": 25,
   "metadata": {},
   "outputs": [],
   "source": [
    "\n",
    "counter = 1\n",
    "def get_new_tuple():\n",
    "    ##Modify this function to change the data sent to the streams app\n",
    "    global counter\n",
    "    counter = counter + 1\n",
    "    new_tuple = dict(x= counter, y= counter * 10)\n",
    "    return new_tuple"
   ]
  },
  {
   "cell_type": "markdown",
   "metadata": {},
   "source": [
    "### Set parameters for sending data\n",
    "Change the values in the cell below to determine how many tuples to send at a time, and for how long"
   ]
  },
  {
   "cell_type": "code",
   "execution_count": 18,
   "metadata": {},
   "outputs": [],
   "source": [
    "\n",
    "DURATION = 10 # How long to send data to the streams app for, in seconds\n",
    "NUMBER_OF_ITEMS_TO_SEND = 100   # send 100 Tuples at a time                          \n",
    "RUN_IN_BACKGROUND = False # keep sending data in the background or send in the foreground"
   ]
  },
  {
   "cell_type": "code",
   "execution_count": 22,
   "metadata": {
    "id": "0411b80f05a9450c81b883472fe2bdeb"
   },
   "outputs": [
    {
     "name": "stdout",
     "output_type": "stream",
     "text": [
      "POSTing data to the Streams app, please wait..\n",
      "Done\n"
     ]
    }
   ],
   "source": [
    "import threading\n",
    "import json\n",
    "import requests\n",
    "def send_data():\n",
    "    with requests.Session() as s:\n",
    "        s.auth = (USERNAME, PASSWORD)\n",
    "        s.cookies = requests.cookies.RequestsCookieJar()\n",
    "\n",
    "        for i in range(DURATION):\n",
    "            items = []\n",
    "            # Build a list of items\n",
    "            for i in range(NUMBER_OF_ITEMS_TO_SEND):\n",
    "                data_to_send = get_new_tuple()\n",
    "                items.append(data_to_send)\n",
    "\n",
    "            # Convert data to json     \n",
    "            req_data = json.dumps(dict(items=items))\n",
    "            # make request\n",
    "            rsp = s.post(POST_URL, data=req_data, headers={\"Content-Type\": \"application/json\"}, verify=False)\n",
    "            #print(req_data)\n",
    "            if rsp.status_code != 204:\n",
    "                message = \"Error sending data: %s\" % rsp.text\n",
    "                print(message)\n",
    "                break\n",
    "            time.sleep(1.0)\n",
    "    print(\"Done\")\n",
    "\n",
    "if (RUN_IN_BACKGROUND):\n",
    "    from IPython.lib import backgroundjobs as bg\n",
    "    jobs = bg.BackgroundJobManager()\n",
    "    print('POSTing data to the Streams app in the background..')\n",
    "    jobs.new(send_data)\n",
    "else:\n",
    "    print('POSTing data to the Streams app, please wait..')\n",
    "    send_data()\n"
   ]
  },
  {
   "cell_type": "markdown",
   "metadata": {
    "id": "47f9aa67-16a9-4bf0-a305-7a49aabd85f4"
   },
   "source": [
    "<a id=\"get\"></a>\n",
    "\n",
    "## GET data from the Streams job"
   ]
  },
  {
   "cell_type": "code",
   "execution_count": null,
   "metadata": {
    "id": "0395a81537a4442c85a1697625525f6e"
   },
   "outputs": [],
   "source": [
    "import requests\n",
    "import time\n",
    "with requests.Session() as s:\n",
    "    s.auth=(USERNAME, PASSWORD)\n",
    "    s.cookies = requests.cookies.RequestsCookieJar()\n",
    "    last_items = []\n",
    "    last_mod = 0\n",
    "    for i in range(2):\n",
    "        rsp = s.get(GET_URL, verify=False, headers={'If-Modified-Since-Milliseconds': str(last_mod)})\n",
    "        if rsp.status_code != 200:\n",
    "            print(rsp.text)\n",
    "            print(rsp)\n",
    "            break\n",
    "        last_items = items\n",
    "        items =  rsp.json()['items']\n",
    "        if (len(items) > 0):\n",
    "            print(\"Got %d tuples:\" % len(items))\n",
    "            for item in items:\n",
    "                print(item)\n",
    "        last_mod = int(rsp.headers['Last-Modified-Milliseconds'])\n",
    "        time.sleep(1.0)"
   ]
  }
 ],
 "metadata": {
  "kernelspec": {
   "display_name": "Python 3",
   "language": "python",
   "name": "python3"
  },
  "language_info": {
   "codemirror_mode": {
    "name": "ipython",
    "version": 3
   },
   "file_extension": ".py",
   "mimetype": "text/x-python",
   "name": "python",
   "nbconvert_exporter": "python",
   "pygments_lexer": "ipython3",
   "version": "3.6.10"
  }
 },
 "nbformat": 4,
 "nbformat_minor": 1
}
